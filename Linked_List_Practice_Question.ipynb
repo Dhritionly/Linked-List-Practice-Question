{
  "nbformat": 4,
  "nbformat_minor": 0,
  "metadata": {
    "colab": {
      "provenance": []
    },
    "kernelspec": {
      "name": "python3",
      "display_name": "Python 3"
    },
    "language_info": {
      "name": "python"
    }
  },
  "cells": [
    {
      "cell_type": "code",
      "execution_count": 1,
      "metadata": {
        "id": "vuoi2m2YQyOL"
      },
      "outputs": [],
      "source": [
        "#Q1) Define a doubly linked list\n",
        "\n",
        "class Node:\n",
        "    def __init__(self, data):\n",
        "        self.data = data\n",
        "        self.prev = None  # Reference to the previous node\n",
        "        self.next = None  # Reference to the next node"
      ]
    },
    {
      "cell_type": "code",
      "source": [
        "#Q2)  Write a function to reverse a linked list in-place:\n",
        "\n",
        "def reverse_linked_list(head):\n",
        "    if head is None or head.next is None:\n",
        "        return head\n",
        "\n",
        "    current = head\n",
        "    prev = None\n",
        "    next_node = None\n",
        "\n",
        "    while current:\n",
        "        next_node = current.next\n",
        "        current.next = prev\n",
        "        prev = current\n",
        "        current = next_node\n",
        "\n",
        "    return prev"
      ],
      "metadata": {
        "id": "o_vzaeyyRLMO"
      },
      "execution_count": 2,
      "outputs": []
    },
    {
      "cell_type": "code",
      "source": [
        "#Q3) Detect cycle in a linked list:\n",
        "\n",
        "\n",
        "\n",
        "def detect_cycle(head):\n",
        "  slow = fast = head\n",
        "\n",
        "  while fast and fast.next:\n",
        "      slow = slow.next\n",
        "      fast = fast.next.next\n",
        "  if slow == fast:\n",
        "          return True\n",
        "    # Cycle exists\n",
        "\n",
        "  return False  # No cycle"
      ],
      "metadata": {
        "id": "7Saae4cYRaiv"
      },
      "execution_count": 8,
      "outputs": []
    },
    {
      "cell_type": "code",
      "source": [
        "#Q4) Merge two sorted linked lists into one\n",
        "\n",
        "def merge_sorted_linked_lists(list1, list2):\n",
        "    if list1 is None:\n",
        "        return list2\n",
        "    if list2 is None:\n",
        "        return list1\n",
        "\n",
        "    dummy = Node(0)  # Dummy node to simplify the process\n",
        "    current = dummy\n",
        "\n",
        "    while list1 and list2:\n",
        "        if list1.data < list2.data:\n",
        "            current.next = list1\n",
        "            list1 = list1.next\n",
        "        else:\n",
        "            current.next = list2\n",
        "            list2 = list2.next\n",
        "\n",
        "        current = current.next\n",
        "\n",
        "    # Append the remaining elements from either list\n",
        "    if list1:\n",
        "        current.next = list1\n",
        "    if list2:\n",
        "        current.next = list2\n",
        "\n",
        "    return dummy.next"
      ],
      "metadata": {
        "id": "i4SiDdz_TLk1"
      },
      "execution_count": 26,
      "outputs": []
    },
    {
      "cell_type": "code",
      "source": [
        "#Q5) Write a function to remove the nth node from`python\n",
        "\n",
        "def remove_nth_from_end(head, n):\n",
        "    if head is None: # this line and subsequent lines need to be indented\n",
        "        return None\n",
        "\n",
        "    dummy = Node(0)\n",
        "    dummy.next = head\n",
        "\n",
        "    first = dummy\n",
        "    second = dummy\n",
        "\n",
        "    # Advance second pointer n steps ahead of first\n",
        "    for i in range(n + 1):\n",
        "        second = second.next\n",
        "        if second is None:\n",
        "            return head  # If n exceeds the list length, remove the first node\n",
        "\n",
        "    # Move both pointers simultaneously until second reaches the end\n",
        "    while second:\n",
        "        first = first.next\n",
        "        second = second.next\n",
        "\n",
        "    first.next = first.next.next\n",
        "    return dummy.next"
      ],
      "metadata": {
        "id": "v0AsUpDOTh_G"
      },
      "execution_count": 25,
      "outputs": []
    },
    {
      "cell_type": "code",
      "source": [
        "#Q6) Remove duplicates from a sorted linked list\n",
        "\n",
        "def remove_duplicates(head):\n",
        "    if head is None:\n",
        "        return None\n",
        "\n",
        "    current = head\n",
        "\n",
        "    while current:\n",
        "        while current.next and current.data == current.next.data:\n",
        "            current.next = current.next.next\n",
        "        current = current.next\n",
        "\n",
        "    return head\n",
        ""
      ],
      "metadata": {
        "id": "mxuZoNqLTnTR"
      },
      "execution_count": 24,
      "outputs": []
    },
    {
      "cell_type": "code",
      "source": [
        "#Q7) Find the intersection of the two linked lists:\n",
        "\n",
        "def find_intersection(list1, list2):\n",
        "    if list1 is None or list2 is None:\n",
        "        return None\n",
        "\n",
        "    # Find the lengths of both lists\n",
        "    len1 = 0\n",
        "    len2 = 0\n",
        "    temp1 = list1\n",
        "    temp2 = list2\n",
        "\n",
        "    while temp1:\n",
        "        len1 += 1\n",
        "        temp1 = temp1.next\n",
        "    while temp2:\n",
        "        len2 += 1\n",
        "        temp2 = temp2.next\n",
        "\n",
        "    # Adjust pointers to start at the same distance from the end\n",
        "    diff = abs(len1 - len2)\n",
        "    if len1 > len2:\n",
        "        for _ in range(diff):\n",
        "            list1 = list1.next\n",
        "    else:\n",
        "        for _ in range(diff):\n",
        "            list2 = list2.next\n",
        "\n",
        "    # Move both pointers simultaneously until they meet\n",
        "    while list1 and list2:\n",
        "        if list1 == list2:\n",
        "            return list1\n",
        "        list1 = list1.next\n",
        "        list2 = list2.next\n",
        "\n",
        "    return None"
      ],
      "metadata": {
        "id": "2TBWUSLHTzN-"
      },
      "execution_count": 23,
      "outputs": []
    },
    {
      "cell_type": "code",
      "source": [
        "#Q8) Rotate a linked list by k positions to the right:\n",
        "\n",
        "def rotate_linked_list(head, k):\n",
        "    if head is None or head.next is None:\n",
        "        return head\n",
        "\n",
        "    # Find the length of the linked list\n",
        "    length = 1\n",
        "    temp = head\n",
        "    while temp.next:\n",
        "        length += 1\n",
        "        temp = temp.next\n",
        "\n",
        "    # Adjust k to handle cases where k is greater than the length\n",
        "    k %= length\n",
        "\n",
        "    if k == 0:\n",
        "        return head\n",
        "\n",
        "    # Find the new head and tail\n",
        "    current = head\n",
        "    for i in range(length - k - 1):\n",
        "        current = current.next\n",
        "\n",
        "    new_head = current.next\n",
        "    current.next = None\n",
        "\n",
        "    # Connect the tail to the beginning\n",
        "    temp = new_head\n",
        "    while temp.next:\n",
        "        temp = temp.next\n",
        "    temp.next = head\n",
        "\n",
        "    return new_head"
      ],
      "metadata": {
        "id": "Fcbz8kNOUJoA"
      },
      "execution_count": 22,
      "outputs": []
    },
    {
      "cell_type": "code",
      "source": [
        "#Q9) Add Two Numbers Represented by Linked Lists:\n",
        "\n",
        "def add_two_numbers(l1, l2):\n",
        "    dummy = Node(0)\n",
        "    current = dummy\n",
        "    carry = 0\n",
        "\n",
        "    while l1 or l2 or carry:\n",
        "        val1 = l1.val if l1 else 0\n",
        "        val2 = l2.val if l2 else 0\n",
        "        sum = val1 + val2 + carry\n",
        "        carry = sum // 10\n",
        "        current.next = Node(sum % 10)\n",
        "        current = current.next\n",
        "\n",
        "        if l1:\n",
        "            l1 = l1.next\n",
        "        if l2:\n",
        "            l2 = l2.next\n",
        "\n",
        "    return dummy.next"
      ],
      "metadata": {
        "id": "bWgg9jTXUNRz"
      },
      "execution_count": 21,
      "outputs": []
    },
    {
      "cell_type": "code",
      "source": [
        "#Q10) Clone a Linked List with next and Random Pointer:\n",
        "\n",
        "def clone_linked_list(head):\n",
        "    if head is None:\n",
        "        return None\n",
        "\n",
        "    # Create a copy of each node and insert it after the original node\n",
        "    current = head\n",
        "    while current:\n",
        "        copy = Node(current.val)\n",
        "        copy.next = current.next\n",
        "        current.next = copy\n",
        "        current = copy.next\n",
        "\n",
        "    # Update the random pointers of the cloned nodes\n",
        "    current = head\n",
        "    while current:\n",
        "        current.next.random = current.random.next if current.random else None\n",
        "        current = current.next.next\n",
        "\n",
        "    # Separate the original and cloned lists\n",
        "    original = head\n",
        "    clone = head.next\n",
        "    head = head.next.next\n",
        "\n",
        "    while head:\n",
        "        original.next = original.next.next\n",
        "        clone.next = clone.next.next\n",
        "        original = original.next\n",
        "        clone = clone.next\n",
        "\n",
        "    return clone"
      ],
      "metadata": {
        "id": "LRSrSiTdUS6I"
      },
      "execution_count": 20,
      "outputs": []
    }
  ]
}